{
 "cells": [
  {
   "cell_type": "markdown",
   "metadata": {},
   "source": [
    "# CS 584 Machine Learning-Homework Project: Crime Prediction\n",
    "\n",
    "### Introduction:\n",
    "\n",
    "    My name is Yunjie Xu, my CWD is A20303205. I did this homework without team, and I didn't do any extra homework, each answers for questions are above corresponding codes.\n",
    "\n",
    "    And for clean data, I did some pretreatment for data, and added \"High Crime\" column in a new csv file, and used new csv to analysis."
   ]
  },
  {
   "cell_type": "code",
   "execution_count": 1,
   "metadata": {
    "collapsed": true
   },
   "outputs": [],
   "source": [
    "f = open(\"communities-crime-clean.csv\", \"r\")\n",
    "lines =f.read().split('\\n')\n",
    "f.close()"
   ]
  },
  {
   "cell_type": "code",
   "execution_count": 2,
   "metadata": {
    "collapsed": false
   },
   "outputs": [],
   "source": [
    "f = open('highCrime.csv','w')\n",
    "f.write(lines[0]+',highCrime\\n')\n",
    "for i in range(1,len(lines)):\n",
    "    if float(lines[i].split(',')[-1])>0.1:\n",
    "        new_line  =lines[i] + ','+'1'\n",
    "        f.write(new_line+'\\n')\n",
    "    else:\n",
    "        new_line  =lines[i] + ','+'0'\n",
    "        f.write(new_line+'\\n')\n",
    "f.close()"
   ]
  },
  {
   "cell_type": "code",
   "execution_count": 3,
   "metadata": {
    "collapsed": false
   },
   "outputs": [],
   "source": [
    "import pandas as pd\n",
    "df=pd.read_csv(\"highCrime.csv\")"
   ]
  },
  {
   "cell_type": "code",
   "execution_count": 4,
   "metadata": {
    "collapsed": false
   },
   "outputs": [],
   "source": [
    "feature_cols=['population','householdsize','racepctblack','racePctWhite','racePctAsian','racePctHisp','agePct12t21','agePct12t29','agePct16t24','agePct65up','numbUrban','pctUrban','medIncome','pctWWage','pctWFarmSelf','pctWInvInc','pctWSocSec','pctWPubAsst','pctWRetire','medFamInc','perCapInc','whitePerCap','blackPerCap','indianPerCap','AsianPerCap','OtherPerCap','HispPerCap','NumUnderPov','PctPopUnderPov','PctLess9thGrade','PctNotHSGrad','PctBSorMore','PctUnemployed','PctEmploy','PctEmplManu','PctEmplProfServ','PctOccupManu','PctOccupMgmtProf','MalePctDivorce','MalePctNevMarr','FemalePctDiv','TotalPctDiv','PersPerFam','PctFam2Par','PctKids2Par','PctYoungKids2Par','PctTeen2Par','PctWorkMomYoungKids','PctWorkMom','NumIlleg','PctIlleg','NumImmig','PctImmigRecent','PctImmigRec5','PctImmigRec8','PctImmigRec10','PctRecentImmig','PctRecImmig5','PctRecImmig8','PctRecImmig10','PctSpeakEnglOnly','PctNotSpeakEnglWell','PctLargHouseFam','PctLargHouseOccup','PersPerOccupHous','PersPerOwnOccHous','PersPerRentOccHous','PctPersOwnOccup','PctPersDenseHous','PctHousLess3BR','MedNumBR','HousVacant','PctHousOccup','PctHousOwnOcc','PctVacantBoarded','PctVacMore6Mos','MedYrHousBuilt','PctHousNoPhone','PctWOFullPlumb','OwnOccLowQuart','OwnOccMedVal','OwnOccHiQuart','RentLowQ','RentMedian','RentHighQ','MedRent','MedRentPctHousInc','MedOwnCostPctInc','MedOwnCostPctIncNoMtg','NumInShelters','NumStreet','PctForeignBorn','PctBornSameState','PctSameHouse85','PctSameCity85','PctSameState85','LandArea','PopDens','PctUsePubTrans','LemasPctOfficDrugUn']\n",
    "X=df[feature_cols]\n",
    "X=df[['population','householdsize','racepctblack','racePctWhite','racePctAsian','racePctHisp','agePct12t21','agePct12t29','agePct16t24','agePct65up','numbUrban','pctUrban','medIncome','pctWWage','pctWFarmSelf','pctWInvInc','pctWSocSec','pctWPubAsst','pctWRetire','medFamInc','perCapInc','whitePerCap','blackPerCap','indianPerCap','AsianPerCap','OtherPerCap','HispPerCap','NumUnderPov','PctPopUnderPov','PctLess9thGrade','PctNotHSGrad','PctBSorMore','PctUnemployed','PctEmploy','PctEmplManu','PctEmplProfServ','PctOccupManu','PctOccupMgmtProf','MalePctDivorce','MalePctNevMarr','FemalePctDiv','TotalPctDiv','PersPerFam','PctFam2Par','PctKids2Par','PctYoungKids2Par','PctTeen2Par','PctWorkMomYoungKids','PctWorkMom','NumIlleg','PctIlleg','NumImmig','PctImmigRecent','PctImmigRec5','PctImmigRec8','PctImmigRec10','PctRecentImmig','PctRecImmig5','PctRecImmig8','PctRecImmig10','PctSpeakEnglOnly','PctNotSpeakEnglWell','PctLargHouseFam','PctLargHouseOccup','PersPerOccupHous','PersPerOwnOccHous','PersPerRentOccHous','PctPersOwnOccup','PctPersDenseHous','PctHousLess3BR','MedNumBR','HousVacant','PctHousOccup','PctHousOwnOcc','PctVacantBoarded','PctVacMore6Mos','MedYrHousBuilt','PctHousNoPhone','PctWOFullPlumb','OwnOccLowQuart','OwnOccMedVal','OwnOccHiQuart','RentLowQ','RentMedian','RentHighQ','MedRent','MedRentPctHousInc','MedOwnCostPctInc','MedOwnCostPctIncNoMtg','NumInShelters','NumStreet','PctForeignBorn','PctBornSameState','PctSameHouse85','PctSameCity85','PctSameState85','LandArea','PopDens','PctUsePubTrans','LemasPctOfficDrugUn']]"
   ]
  },
  {
   "cell_type": "code",
   "execution_count": 5,
   "metadata": {
    "collapsed": false
   },
   "outputs": [],
   "source": [
    "Y=df['highCrime']\n",
    "Y=df.highCrime\n",
    "Z=df['ViolentCrimesPerPop']\n",
    "Z=df.ViolentCrimesPerPop"
   ]
  },
  {
   "cell_type": "code",
   "execution_count": 6,
   "metadata": {
    "collapsed": false
   },
   "outputs": [
    {
     "data": {
      "text/plain": [
       "DecisionTreeClassifier(class_weight=None, criterion='gini', max_depth=5,\n",
       "            max_features=None, max_leaf_nodes=None,\n",
       "            min_impurity_split=1e-07, min_samples_leaf=1,\n",
       "            min_samples_split=2, min_weight_fraction_leaf=0.0,\n",
       "            presort=False, random_state=None, splitter='best')"
      ]
     },
     "execution_count": 6,
     "metadata": {},
     "output_type": "execute_result"
    }
   ],
   "source": [
    "from sklearn import tree\n",
    "import numpy as np\n",
    "clf=tree.DecisionTreeClassifier(max_depth=5)\n",
    "clf.fit(X,Y)"
   ]
  },
  {
   "cell_type": "code",
   "execution_count": 7,
   "metadata": {
    "collapsed": false
   },
   "outputs": [],
   "source": [
    "Y.to_csv(\"DecisionTreeClassifier.csv\")\n",
    "f2 = open(\"DecisionTreeClassifier.csv\", \"r\")\n",
    "lines2 =f2.read().split('\\n')\n",
    "f2.close()\n",
    "predict=clf.predict(X)"
   ]
  },
  {
   "cell_type": "markdown",
   "metadata": {},
   "source": [
    "# 1. Decision Trees\n",
    "#### a.Create new file for High Crime\n",
    "\n",
    "\n",
    "\n",
    "    From data follow cell:\n",
    "    it shows that percentage of positive (High crime) is 62.7%\n",
    "    it shows that percentage of negative (Low crime) is 37.2%    "
   ]
  },
  {
   "cell_type": "code",
   "execution_count": 8,
   "metadata": {
    "collapsed": false
   },
   "outputs": [
    {
     "name": "stdout",
     "output_type": "stream",
     "text": [
      "The percentage of high crime in data:0.6216758655293527\n",
      "The percentage of low crime in data:0.3783241344706473\n"
     ]
    }
   ],
   "source": [
    "from sklearn import metrics\n",
    "TrueHighCrime=0\n",
    "PredictCrime=0\n",
    "for j in range(0,len(lines2)-1):\n",
    "    if int(lines2[j].split(',')[1])==1:\n",
    "        TrueHighCrime=TrueHighCrime+1\n",
    "    if int(predict[j])==1:\n",
    "        PredictCrime=PredictCrime+1\n",
    "TrueCrimeRate=TrueHighCrime/(len(lines2)-1)\n",
    "PredictCrimeRate=PredictCrime/(len(lines2)-1)\n",
    "LowPredicCrimeRate=1-PredictCrimeRate\n",
    "print(str('The percentage of high crime in data:')+str(PredictCrimeRate))\n",
    "print(str('The percentage of low crime in data:')+str(LowPredicCrimeRate))"
   ]
  },
  {
   "cell_type": "markdown",
   "metadata": {},
   "source": [
    "#### b.Using Decision Tree Classifier to predict high crime in data\n",
    "\n",
    "           Set max depth of decision tree as 5 and get accuray, precision recall as below\n",
    "           \n",
    "           i. 1.The accuray of training data is :87.2%\n",
    "              2.The precision of training data is 90.1%\n",
    "              3.The recall of training data is 89.3%\n",
    "              \n",
    "           ii.The main feature is \n",
    "              1.PctKids2Par(percentage of kids in family housing with two parents )\n",
    "              2.racePctWhite(percentage of population that is caucasian)\n",
    "              3.racePctHisp(percentage of population that is of hispanic heritage)"
   ]
  },
  {
   "cell_type": "code",
   "execution_count": 9,
   "metadata": {
    "collapsed": false
   },
   "outputs": [
    {
     "data": {
      "text/plain": [
       "(0.87205218263923734, 0.90153349475383371, 0.89359999999999995)"
      ]
     },
     "execution_count": 9,
     "metadata": {},
     "output_type": "execute_result"
    }
   ],
   "source": [
    "from sklearn.metrics import accuracy_score, precision_score, recall_score\n",
    "accuracy_score(Y,clf.predict(X)), precision_score(Y,clf.predict(X)), recall_score(Y,clf.predict(X))"
   ]
  },
  {
   "cell_type": "code",
   "execution_count": 10,
   "metadata": {
    "collapsed": false
   },
   "outputs": [
    {
     "name": "stdout",
     "output_type": "stream",
     "text": [
      "Main feature used in decision tree:\n",
      "PctKids2Par\n",
      "racePctWhite\n",
      "racePctHisp\n",
      "Accuary of training data is 0.872052182639\n"
     ]
    }
   ],
   "source": [
    "importance=np.array(clf.feature_importances_)\n",
    "sortedimportance=sorted(range(len(importance)), key=lambda k:importance[k],reverse=True)\n",
    "print(\"Main feature used in decision tree:\")\n",
    "for i in range(0,3):\n",
    "    print(feature_cols[sortedimportance[i]])\n",
    "print(\"Accuary of training data is\",clf.score(X,Y))"
   ]
  },
  {
   "cell_type": "markdown",
   "metadata": {},
   "source": [
    "c.Cross-Validation\n",
    "       \n",
    "       i.  10 folds accuracy is:77.5%\n",
    "           10 folds precision is 83.2%\n",
    "           10 folds recall is 81.7%"
   ]
  },
  {
   "cell_type": "code",
   "execution_count": 11,
   "metadata": {
    "collapsed": false
   },
   "outputs": [
    {
     "name": "stdout",
     "output_type": "stream",
     "text": [
      "Accuracy: 0.775675879397 Precision: 0.824812319934 Recall: 0.8232\n"
     ]
    }
   ],
   "source": [
    "from sklearn.model_selection import cross_val_score\n",
    "DTprecision=cross_val_score(clf,X,Y,cv=10,scoring=\"precision\")\n",
    "DTaccuracy=cross_val_score(clf,X,Y,cv=10,scoring=\"accuracy\")\n",
    "DTrecall=cross_val_score(clf,X,Y,cv=10,scoring=\"recall\")\n",
    "print(\"Accuracy:\",DTaccuracy.mean(),\"Precision:\",DTprecision.mean(),\"Recall:\",DTrecall.mean())"
   ]
  },
  {
   "cell_type": "markdown",
   "metadata": {},
   "source": [
    "# 2.\tLinear Classification\n",
    "\n",
    "#### a.GaussianNB \n",
    "     \n",
    "     i.  10 folds accuracy is:76.2%\n",
    "         10 folds precision is 91.2%\n",
    "         10 folds recall is 69.2%\n",
    "      \n",
    "     ii. 10 most predict feature\n",
    "         Use μTi=E[feature i|target=1]\n",
    "             μFi=E[feature i|target=0]\n",
    "             σTi=E[feature i-μTi|target=1]\n",
    "             σFi=E[feature i-μFi|target=0]\n",
    "             \n",
    "             Because larger difference, it means that gap between mean of predict high crime and low crime is larger and it\n",
    "             shows that it more approach one result, and after normalized, it can compare with other feature.\n",
    "             \n",
    "     iii.The first two features PctKids2Par,racePctWhite are same, but the third feature in decision tree is not appear in                Gaussian Naive Beyes\n",
    "             \n",
    "             "
   ]
  },
  {
   "cell_type": "code",
   "execution_count": 12,
   "metadata": {
    "collapsed": false
   },
   "outputs": [
    {
     "name": "stdout",
     "output_type": "stream",
     "text": [
      "Accuracy: 0.761608040201 Precision: 0.911799814828 Recall: 0.692\n"
     ]
    }
   ],
   "source": [
    "from sklearn.naive_bayes import GaussianNB\n",
    "clf2 = GaussianNB()\n",
    "clf2.fit(X,Y)\n",
    "NBprecision=cross_val_score(clf2,X,Y,cv=10,scoring=\"precision\")\n",
    "NBaccuracy=cross_val_score(clf2,X,Y,cv=10,scoring=\"accuracy\")\n",
    "NBrecall=cross_val_score(clf2,X,Y,cv=10,scoring=\"recall\")\n",
    "print(\"Accuracy:\",NBaccuracy.mean(),\"Precision:\",NBprecision.mean(),\"Recall:\",NBrecall.mean())\n",
    "PredictCrimeNB=0\n",
    "predictNB=clf2.predict(X)\n",
    "for j in range(0,len(lines2)-1):\n",
    "        if int(predictNB[j])==1:\n",
    "            PredictCrimeNB=PredictCrimeNB+1"
   ]
  },
  {
   "cell_type": "code",
   "execution_count": 13,
   "metadata": {
    "collapsed": false
   },
   "outputs": [],
   "source": [
    "uT=[]\n",
    "uF=[]\n",
    "dT=[]\n",
    "dF=[]\n",
    "NAD=[]\n",
    "for n in range(0,X.shape[1]-1):\n",
    "    uT.append(0)\n",
    "    uF.append(0)\n",
    "    dT.append(0)\n",
    "    dF.append(0)\n",
    "    NAD.append(0)\n",
    "for j in range(1,X.shape[0]):\n",
    "    if int(lines2[j-1].split(',')[1])==1:\n",
    "        for m in range(0,X.shape[1]-1):\n",
    "            uT[m]=float(lines[j].split(',')[m+3])+uT[m]\n",
    "    else:\n",
    "        for n in range(0,X.shape[1]-1):\n",
    "            uF[n]=float(lines[j].split(',')[n+3])+uF[n]   \n",
    "for h in range(0,X.shape[1]-1):\n",
    "    uT[h]=uT[h]/TrueHighCrime\n",
    "    uF[h]=uF[h]/(X.shape[0]-TrueHighCrime)"
   ]
  },
  {
   "cell_type": "code",
   "execution_count": 14,
   "metadata": {
    "collapsed": false
   },
   "outputs": [],
   "source": [
    "for u in range(1,X.shape[0]):\n",
    "    if int(lines2[u-1].split(',')[1])==1:\n",
    "        for v in range(0,X.shape[1]-1):\n",
    "            D=np.square(float(lines[u].split(',')[v+3])-uT[v])\n",
    "            dT[v]=D+dT[v]\n",
    "    else:\n",
    "        for z in range(0,X.shape[1]-1):\n",
    "            D2=np.square(float(lines[u].split(',')[z+3])-uF[z])\n",
    "            dF[z]=D2+dF[z]"
   ]
  },
  {
   "cell_type": "code",
   "execution_count": 15,
   "metadata": {
    "collapsed": false
   },
   "outputs": [],
   "source": [
    "for h in range(0,X.shape[1]-1):\n",
    "    dT[h]=np.sqrt(dT[h])/TrueHighCrime\n",
    "    dF[h]=np.sqrt(dF[h])/(X.shape[0]-TrueHighCrime)"
   ]
  },
  {
   "cell_type": "code",
   "execution_count": 16,
   "metadata": {
    "collapsed": false
   },
   "outputs": [
    {
     "name": "stdout",
     "output_type": "stream",
     "text": [
      "PctKids2Par\n",
      "racePctWhite\n",
      "PctFam2Par\n",
      "PctIlleg\n",
      "FemalePctDiv\n",
      "PctYoungKids2Par\n",
      "TotalPctDiv\n",
      "pctWInvInc\n",
      "PctTeen2Par\n",
      "racepctblack\n"
     ]
    }
   ],
   "source": [
    "for h in range(0,X.shape[1]-1):\n",
    "    NAD[h]=abs(uF[h]-uT[h])/(dF[h]+dT[h])\n",
    "NADsorted=sorted(range(len(NAD)), key=lambda k:NAD[k],reverse=True)\n",
    "for i in range(0,10):\n",
    "    print(feature_cols[NADsorted[i]])"
   ]
  },
  {
   "cell_type": "markdown",
   "metadata": {},
   "source": [
    "#### b.Linear Support Vector Machine \n",
    "    \n",
    "     i.  10 folds accuracy is:79.6%\n",
    "         10 folds precision is 84.5%\n",
    "         10 folds recall is 83.4%\n",
    "    \n",
    "     ii.10 most predict feature:\n",
    "        pctWInvInc:percentage of households with investment / rent income in 1989 \n",
    "        PersPerOccupHous:mean persons per household \n",
    "        racePctWhite:percentage of population that is caucasian \n",
    "        PctKids2Par:percentage of kids in family housing with two parents \n",
    "        RentHighQ:rental housing - upper quartile rent \n",
    "        MalePctDivorce:percentage of males who are divorced\n",
    "        NumUnderPov:number of people under the poverty level \n",
    "        NumStreet:number of homeless people counted in the street \n",
    "        PctOccupMgmtProf:percentage of people 16 and over who are employed in management or professional occupations\n",
    "        population:population for community\n",
    "        \n",
    "      iii.The main feature for decesion tree:PctKids2Par,racePctWhite is appeared in linear SVC, it indicates that this two\n",
    "          features are most like to affact crime rate.\n",
    "        \n",
    "        "
   ]
  },
  {
   "cell_type": "code",
   "execution_count": 17,
   "metadata": {
    "collapsed": false
   },
   "outputs": [
    {
     "name": "stdout",
     "output_type": "stream",
     "text": [
      "Accuracy 0.796233668342 Precision 0.845404856531 Recall 0.8344\n"
     ]
    }
   ],
   "source": [
    "from sklearn.svm import LinearSVC\n",
    "clf3 = LinearSVC()\n",
    "clf3.fit(X,Y)\n",
    "LSVCprecision=cross_val_score(clf3,X,Y,cv=10,scoring=\"precision\")\n",
    "LSVCaccuracy=cross_val_score(clf3,X,Y,cv=10,scoring=\"accuracy\")\n",
    "LSVCrecall=cross_val_score(clf3,X,Y,cv=10,scoring=\"recall\")\n",
    "print(\"Accuracy\",LSVCaccuracy.mean(),\"Precision\",LSVCprecision.mean(),\"Recall\",LSVCrecall.mean())  "
   ]
  },
  {
   "cell_type": "code",
   "execution_count": 18,
   "metadata": {
    "collapsed": false
   },
   "outputs": [
    {
     "name": "stdout",
     "output_type": "stream",
     "text": [
      "10 most predict feature:\n",
      "pctWInvInc\n",
      "PersPerOccupHous\n",
      "racePctWhite\n",
      "PctKids2Par\n",
      "RentHighQ\n",
      "MalePctDivorce\n",
      "NumUnderPov\n",
      "NumStreet\n",
      "PctOccupMgmtProf\n",
      "population\n"
     ]
    }
   ],
   "source": [
    "coef=abs(np.array(clf3.coef_))\n",
    "LSVCReverseSortedCoef=sorted(range(len(coef[0])), key=lambda k:coef[0][k],reverse=True)\n",
    "print(\"10 most predict feature:\")\n",
    "for i in range(0,10):\n",
    "    print(feature_cols[LSVCReverseSortedCoef[i]])"
   ]
  },
  {
   "cell_type": "markdown",
   "metadata": {},
   "source": [
    "# 3. Regression\n",
    "\n",
    "#### a.Linear Regression model\n",
    "\n",
    "    i.The estimated mean-squared-error (MSE) of the model under 10 fold cross validation:2%\n",
    "    \n",
    "    ii.MSE of training data: 1.65%\n",
    "    \n",
    "    iii. The feature for high crime rate:\n",
    "         PersPerOccupHous\n",
    "         PctHousOwnOcc\n",
    "         MalePctDivorce\n",
    "         PctRecImmig8\n",
    "         MedRent\n",
    "         medFamInc\n",
    "         PctEmploy\n",
    "         MalePctNevMarr\n",
    "         PctPersDenseHous\n",
    "         OwnOccMedVal\n",
    "         \n",
    "         The feature for low crime rate:\n",
    "         PctPersOwnOccup\n",
    "         TotalPctDiv\n",
    "         whitePerCap\n",
    "         PctKids2Par\n",
    "         OwnOccLowQuart\n",
    "         numbUrban\n",
    "         PersPerRentOccHous\n",
    "         RentLowQ\n",
    "         agePct12t29\n",
    "         PctRecImmig5"
   ]
  },
  {
   "cell_type": "code",
   "execution_count": 19,
   "metadata": {
    "collapsed": false
   },
   "outputs": [
    {
     "name": "stdout",
     "output_type": "stream",
     "text": [
      "10 folds CV's MSE: 0.0200939693044\n",
      "MSE for training data: 0.0165167748803\n"
     ]
    }
   ],
   "source": [
    "from sklearn.linear_model import LinearRegression\n",
    "from sklearn.metrics import mean_squared_error\n",
    "clf4=LinearRegression()\n",
    "clf4.fit(X,Z)\n",
    "LRMSE=cross_val_score(clf4, X, Z,cv=10,scoring=\"neg_mean_squared_error\")\n",
    "print(\"10 folds CV's MSE:\",-LRMSE.mean())\n",
    "print(\"MSE for training data:\",mean_squared_error(Z, clf4.predict(X)))\n"
   ]
  },
  {
   "cell_type": "code",
   "execution_count": 20,
   "metadata": {
    "collapsed": false
   },
   "outputs": [
    {
     "name": "stdout",
     "output_type": "stream",
     "text": [
      "Feature for High Crime Rate: PersPerOccupHous\n",
      "Feature for High Crime Rate: PctHousOwnOcc\n",
      "Feature for High Crime Rate: MalePctDivorce\n",
      "Feature for High Crime Rate: PctRecImmig8\n",
      "Feature for High Crime Rate: MedRent\n",
      "Feature for High Crime Rate: medFamInc\n",
      "Feature for High Crime Rate: PctEmploy\n",
      "Feature for High Crime Rate: MalePctNevMarr\n",
      "Feature for High Crime Rate: PctPersDenseHous\n",
      "Feature for High Crime Rate: OwnOccMedVal\n",
      "Feature for Low Crime Rate: PctPersOwnOccup\n",
      "Feature for Low Crime Rate: TotalPctDiv\n",
      "Feature for Low Crime Rate: whitePerCap\n",
      "Feature for Low Crime Rate: PctKids2Par\n",
      "Feature for Low Crime Rate: OwnOccLowQuart\n",
      "Feature for Low Crime Rate: numbUrban\n",
      "Feature for Low Crime Rate: PersPerRentOccHous\n",
      "Feature for Low Crime Rate: RentLowQ\n",
      "Feature for Low Crime Rate: agePct12t29\n",
      "Feature for Low Crime Rate: PctRecImmig5\n"
     ]
    }
   ],
   "source": [
    "coef2=np.array(clf4.coef_)\n",
    "LRReverseSortedCoef=sorted(range(len(coef2)), key=lambda k:coef2[k],reverse=True)\n",
    "LRSortedCoef=sorted(range(len(coef2)), key=lambda k:coef2[k])\n",
    "for i in range(0,10):\n",
    "    print(\"Feature for High Crime Rate:\",feature_cols[LRReverseSortedCoef[i]])\n",
    "for i in range(0,10):\n",
    "    print(\"Feature for Low Crime Rate:\",feature_cols[LRSortedCoef[i]])\n",
    "##zip(feature_cols,clf4.coef_)\n"
   ]
  },
  {
   "cell_type": "markdown",
   "metadata": {},
   "source": [
    "#### b. Ridge \n",
    "\n",
    "    i.The estimated mean-squared-error (MSE) of the model under 10 fold cross validation:1.97%\n",
    "    \n",
    "    ii.MSE of training data is 1.67%\n",
    "    \n",
    "    iii.The best alpha is 1\n",
    "    \n",
    "    iv:it has same alpha value, which means that linearn regression is not overfitting"
   ]
  },
  {
   "cell_type": "code",
   "execution_count": 21,
   "metadata": {
    "collapsed": false
   },
   "outputs": [
    {
     "name": "stdout",
     "output_type": "stream",
     "text": [
      "The estimated mean-squared-error (MSE) of the model under 10 fold cross validation: 0.0197950213482\n",
      "MSE of training data is 0.0167635291552\n",
      "The best alpha is 1.0\n"
     ]
    }
   ],
   "source": [
    "from sklearn import linear_model\n",
    "clf5=linear_model.Ridge()\n",
    "RRMSE=cross_val_score(clf5, X, Z,cv=10,scoring=\"neg_mean_squared_error\")\n",
    "print(\"The estimated mean-squared-error (MSE) of the model under 10 fold cross validation:\",-RRMSE.mean())\n",
    "clf5.fit(X, Z)\n",
    "clf6=linear_model.RidgeCV(alphas=[0.01, 0.01, 0.1, 1.0, 10.0], fit_intercept=True, normalize=False, scoring=None, cv=None, gcv_mode=None, store_cv_values=False)\n",
    "clf6.fit(X,Z)\n",
    "print(\"MSE of training data is\",mean_squared_error(Z, clf6.predict(X)))\n",
    "print(\"The best alpha is\",clf6.alpha_)\n",
    "\n"
   ]
  },
  {
   "cell_type": "markdown",
   "metadata": {},
   "source": [
    "#### c.Polynomial features\n",
    "\n",
    "    i.The estimated mean-squared-error (MSE) of the model under 10 fold cross validation: 12.99%\n",
    "    \n",
    "    ii.MSE of training data is 1.72164099238e-28\n",
    "    \n",
    "    iii. It has much higher MSE of model under 10 folds CV, it means it's not better than linear model"
   ]
  },
  {
   "cell_type": "code",
   "execution_count": 22,
   "metadata": {
    "collapsed": false
   },
   "outputs": [
    {
     "name": "stdout",
     "output_type": "stream",
     "text": [
      "0.129996952112\n",
      "1.72164099238e-28\n"
     ]
    }
   ],
   "source": [
    "from sklearn.preprocessing import PolynomialFeatures\n",
    "from sklearn.pipeline import Pipeline\n",
    "model = Pipeline([('poly', PolynomialFeatures(degree=2)),\n",
    "                  ('linear', LinearRegression(fit_intercept=False))])\n",
    "model = model.fit(X,Z)\n",
    "PMSE=cross_val_score(model, X, Z,cv=10,scoring=\"neg_mean_squared_error\")\n",
    "print(-PMSE.mean())\n",
    "print(mean_squared_error(Z, model.predict(X)))"
   ]
  },
  {
   "cell_type": "markdown",
   "metadata": {},
   "source": [
    "# 4. Dirty Data\n",
    "\n",
    "#### a. CV is better for Post-Pruning which can decrease overfitting. Using imputation method to deal with missing value--Mean substitution\n"
   ]
  },
  {
   "cell_type": "code",
   "execution_count": 23,
   "metadata": {
    "collapsed": false
   },
   "outputs": [],
   "source": [
    "import csv\n",
    "\n",
    "data = pd.read_csv('communities-crime-full.csv')\n",
    "\n",
    "with open('communities-crime-full-modified.csv', 'w')as f:\n",
    "    writer = csv.writer(f)\n",
    "    writer.writerow(list(data.keys()))\n",
    "    special_key = []\n",
    "    for key in data.keys():\n",
    "        item_values = data[key]  ### storage each key's value\n",
    "        for t in item_values:\n",
    "            if '?' == t:   ###  if there is a '?' in value\n",
    "                special_key.append(key)  ### escape that value and save the key\n",
    "\n",
    "\n",
    "    special_key = set(special_key) ## remove the repeat keys names\n",
    "\n",
    "    for key in special_key:  ## loop the '?' key\n",
    "        tem = []\n",
    "        item_values = data[key]\n",
    "        for i in range(len(item_values)):\n",
    "            if '?' == item_values[i]:\n",
    "                continue\n",
    "            else:\n",
    "                tem.append(float(item_values[i]))\n",
    "        mean_value = np.mean(tem)   ## get the non'?' mean value\n",
    "        if key != 'county' and key != 'community':\n",
    "            mean_value = round(mean_value,2)\n",
    "        else:\n",
    "            mean_value = int(mean_value)\n",
    "\n",
    "        new_item_values=[]\n",
    "        for i in range(len(item_values)):\n",
    "            if '?' == item_values[i]:\n",
    "                new_item_values.append(str(mean_value)) ## reassign the mean value to replace '?'\n",
    "            else:\n",
    "                new_item_values.append(item_values[i])\n",
    "\n",
    "        data[key] = new_item_values  ## refresh the data\n",
    "\n",
    "    for i in range(len(data[data.keys()[0]])):\n",
    "        each_line = [] ## rearrange data shape\n",
    "        for key in data.keys():\n",
    "            each_line.append(str(data[key][i]))\n",
    "        writer = csv.writer(f)\n",
    "        writer.writerow(each_line)\n",
    "f.close()\n",
    "\n",
    "\n",
    "\n",
    "\n"
   ]
  },
  {
   "cell_type": "code",
   "execution_count": 24,
   "metadata": {
    "collapsed": false
   },
   "outputs": [],
   "source": [
    "data = pd.read_csv('communities-crime-full-modified.csv')\n",
    "dataFrame=pd.DataFrame(data)\n",
    "dataFrame['highCrime']=1\n",
    "for index,row in dataFrame.iterrows():\n",
    "    if row['ViolentCrimesPerPop']>0.1:\n",
    "        dataFrame.set_value(index, 'highCrime', 1)\n",
    "    else:\n",
    "        dataFrame.set_value(index, 'highCrime', 0)\n",
    "feature=dataFrame.drop(data.columns[[0, 1, 2,3,4,-1,-2]], axis=1)\n",
    "target=dataFrame['highCrime']\n",
    "target=dataFrame.highCrime\n"
   ]
  },
  {
   "cell_type": "code",
   "execution_count": 25,
   "metadata": {
    "collapsed": false
   },
   "outputs": [
    {
     "name": "stdout",
     "output_type": "stream",
     "text": [
      "accuracy: 0.872116349047 precision: 0.901612903226 recall: 0.893685051958\n",
      "CV accuracy: 0.785323245581 CV precision: 0.842627146676 CV recall: 0.814520634921\n"
     ]
    }
   ],
   "source": [
    "DT=tree.DecisionTreeClassifier(max_depth=5)\n",
    "DT.fit(feature,target)\n",
    "print('accuracy:',accuracy_score(target,DT.predict(feature)), 'precision:',precision_score(target,DT.predict(feature)), 'recall:',recall_score(target,DT.predict(feature)))\n",
    "DTDirtyA=cross_val_score(DT,feature,target,cv=10,scoring=\"accuracy\")\n",
    "DTDirtyP=cross_val_score(DT,feature,target,cv=10,scoring=\"precision\")\n",
    "DTDirtyR=cross_val_score(DT,feature,target,cv=10,scoring=\"recall\")\n",
    "print('CV accuracy:',DTDirtyA.mean(),'CV precision:',DTDirtyP.mean(),'CV recall:',DTDirtyR.mean())"
   ]
  },
  {
   "cell_type": "code",
   "execution_count": null,
   "metadata": {
    "collapsed": true
   },
   "outputs": [],
   "source": []
  }
 ],
 "metadata": {
  "kernelspec": {
   "display_name": "Python 3",
   "language": "python",
   "name": "python3"
  },
  "language_info": {
   "codemirror_mode": {
    "name": "ipython",
    "version": 3
   },
   "file_extension": ".py",
   "mimetype": "text/x-python",
   "name": "python",
   "nbconvert_exporter": "python",
   "pygments_lexer": "ipython3",
   "version": "3.6.0"
  }
 },
 "nbformat": 4,
 "nbformat_minor": 2
}
